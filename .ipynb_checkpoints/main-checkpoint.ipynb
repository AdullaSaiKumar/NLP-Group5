{
 "cells": [
  {
   "cell_type": "code",
   "execution_count": 1,
   "metadata": {},
   "outputs": [],
   "source": [
    "import os \n",
    "import pandas"
   ]
  },
  {
   "cell_type": "code",
   "execution_count": 2,
   "metadata": {},
   "outputs": [],
   "source": [
    "DATASET_PATH = './dataset/measuring_hate_speech.csv'"
   ]
  },
  {
   "cell_type": "markdown",
   "metadata": {},
   "source": [
    "Importing custom operators developed by the Group to Clean, Process and build hate detection model."
   ]
  },
  {
   "cell_type": "markdown",
   "metadata": {},
   "source": [
    "<h1> Data Cleaning <h1/>"
   ]
  },
  {
   "cell_type": "code",
   "execution_count": 3,
   "metadata": {},
   "outputs": [
    {
     "name": "stdout",
     "output_type": "stream",
     "text": [
      "Help on class CleanTextDatasetOperator in module cleaning.clean_dataset:\n",
      "\n",
      "class CleanTextDatasetOperator(builtins.object)\n",
      " |  CleanTextDatasetOperator(file_path='', *args, **kwargs)\n",
      " |  \n",
      " |  Methods defined here:\n",
      " |  \n",
      " |  __init__(self, file_path='', *args, **kwargs)\n",
      " |      This class wraps all data cleaning logic under one shade.\n",
      " |      \n",
      " |      Args:   \n",
      " |          file_path (str) : Path to the text dataset file in csv format.\n",
      " |      Returns:\n",
      " |          cleaned_df (pandas.DataFrame) : processed cleaned data frame.\n",
      " |      \n",
      " |      Added By : Abbas Ismail\n",
      " |  \n",
      " |  expand_contractions(self, df: pandas.core.frame.DataFrame)\n",
      " |      Method for expanding compression for text column\n",
      " |      \n",
      " |      Added By : Simranjeet and Navneet kaur\n",
      " |  \n",
      " |  load_csv_to_dataset(self)\n",
      " |      This method loads CSV dataset to pandas Dataframe\n",
      " |      Returns:\n",
      " |          df : pandas.DataFrame - dataset dataframe\n",
      " |      \n",
      " |      Added By : Abbas Ismail\n",
      " |  \n",
      " |  lowercase_text(self, df: pandas.core.frame.DataFrame)\n",
      " |      Method converts the dataset text to lower case\n",
      " |      \n",
      " |      Added By : Sai Kumar Adulla\n",
      " |  \n",
      " |  remove_emojis(self, df: pandas.core.frame.DataFrame)\n",
      " |      Method for removing all the emojis from text\n",
      " |      \n",
      " |      Added By : Sharon Victor\n",
      " |  \n",
      " |  remove_html_tags(self, df: pandas.core.frame.DataFrame)\n",
      " |      Method to remove all the HTML Tags from the Dataframe\n",
      " |      \n",
      " |      Added By : Kanika Kataria (C0866652)\n",
      " |  \n",
      " |  remove_number(self, df: pandas.core.frame.DataFrame)\n",
      " |      Method remove numericals from datatset text\n",
      " |      \n",
      " |      Added By : Lakshmi Kumari\n",
      " |  \n",
      " |  remove_stopwords(self, df: pandas.core.frame.DataFrame)\n",
      " |      Method for removing all the english stopwords from the dataset\n",
      " |      \n",
      " |      Added By : Christin Paul\n",
      " |  \n",
      " |  ----------------------------------------------------------------------\n",
      " |  Data descriptors defined here:\n",
      " |  \n",
      " |  __dict__\n",
      " |      dictionary for instance variables (if defined)\n",
      " |  \n",
      " |  __weakref__\n",
      " |      list of weak references to the object (if defined)\n",
      "\n"
     ]
    }
   ],
   "source": [
    "from cleaning.clean_dataset import CleanTextDatasetOperator\n",
    "\n",
    "clean_dataset_operator = CleanTextDatasetOperator(\n",
    "    file_path=DATASET_PATH\n",
    ")\n",
    "\n",
    "help(CleanTextDatasetOperator)\n"
   ]
  },
  {
   "cell_type": "code",
   "execution_count": 4,
   "metadata": {},
   "outputs": [
    {
     "data": {
      "text/html": [
       "<div>\n",
       "<style scoped>\n",
       "    .dataframe tbody tr th:only-of-type {\n",
       "        vertical-align: middle;\n",
       "    }\n",
       "\n",
       "    .dataframe tbody tr th {\n",
       "        vertical-align: top;\n",
       "    }\n",
       "\n",
       "    .dataframe thead th {\n",
       "        text-align: right;\n",
       "    }\n",
       "</style>\n",
       "<table border=\"1\" class=\"dataframe\">\n",
       "  <thead>\n",
       "    <tr style=\"text-align: right;\">\n",
       "      <th></th>\n",
       "      <th>hate_speech_score</th>\n",
       "      <th>text</th>\n",
       "    </tr>\n",
       "  </thead>\n",
       "  <tbody>\n",
       "    <tr>\n",
       "      <th>0</th>\n",
       "      <td>-3.90</td>\n",
       "      <td>Yes indeed. She sort of reminds me of the elde...</td>\n",
       "    </tr>\n",
       "    <tr>\n",
       "      <th>1</th>\n",
       "      <td>-6.52</td>\n",
       "      <td>The trans women reading this tweet right now i...</td>\n",
       "    </tr>\n",
       "    <tr>\n",
       "      <th>2</th>\n",
       "      <td>0.36</td>\n",
       "      <td>Question: These 4 broads who criticize America...</td>\n",
       "    </tr>\n",
       "    <tr>\n",
       "      <th>3</th>\n",
       "      <td>0.26</td>\n",
       "      <td>It is about time for all illegals to go back t...</td>\n",
       "    </tr>\n",
       "    <tr>\n",
       "      <th>4</th>\n",
       "      <td>1.54</td>\n",
       "      <td>For starters bend over the one in pink and kic...</td>\n",
       "    </tr>\n",
       "  </tbody>\n",
       "</table>\n",
       "</div>"
      ],
      "text/plain": [
       "   hate_speech_score                                               text\n",
       "0              -3.90  Yes indeed. She sort of reminds me of the elde...\n",
       "1              -6.52  The trans women reading this tweet right now i...\n",
       "2               0.36  Question: These 4 broads who criticize America...\n",
       "3               0.26  It is about time for all illegals to go back t...\n",
       "4               1.54  For starters bend over the one in pink and kic..."
      ]
     },
     "execution_count": 4,
     "metadata": {},
     "output_type": "execute_result"
    }
   ],
   "source": [
    "dataset_df = clean_dataset_operator.load_csv_to_dataset()\n",
    "dataset_df.head()"
   ]
  },
  {
   "cell_type": "code",
   "execution_count": null,
   "metadata": {},
   "outputs": [],
   "source": []
  }
 ],
 "metadata": {
  "kernelspec": {
   "display_name": "Python 3 (ipykernel)",
   "language": "python",
   "name": "python3"
  },
  "language_info": {
   "codemirror_mode": {
    "name": "ipython",
    "version": 3
   },
   "file_extension": ".py",
   "mimetype": "text/x-python",
   "name": "python",
   "nbconvert_exporter": "python",
   "pygments_lexer": "ipython3",
   "version": "3.9.6"
  }
 },
 "nbformat": 4,
 "nbformat_minor": 2
}
